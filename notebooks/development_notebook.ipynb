{
 "cells": [
  {
   "cell_type": "code",
   "execution_count": null,
   "metadata": {},
   "outputs": [],
   "source": [
    "from pathlib import Path\n",
    "from pytube import YouTube\n",
    "# from pydub import AudioSegment\n",
    "import subprocess"
   ]
  },
  {
   "cell_type": "code",
   "execution_count": null,
   "metadata": {},
   "outputs": [],
   "source": [
    "youtube_url = 'https://youtu.be/I032SjN_NaQ?si=jwaHk1SclXVk4Nl5'\n",
    "\n",
    "# Finding YouTube video\n",
    "yt = YouTube(youtube_url)\n",
    "print('Attempting to download:', yt.title)\n",
    "\n",
    "# Displaying available streams\n",
    "audio_streams = yt.streams.filter(progressive=False, type='audio')\n",
    "print('\\nAudio streams:')\n",
    "[print(audio_stream) for audio_stream in audio_streams]\n",
    "\n",
    "# Finding best audio stream\n",
    "best_audio_stream = yt.streams.filter(progressive=False, type='audio').order_by('abr').desc().first()\n",
    "print('\\nBest audio stream:')\n",
    "print(best_audio_stream)\n",
    "\n",
    "# Downloading best audio stream\n",
    "print('\\nDownloading...')\n",
    "filepath = best_audio_stream.download(filename_prefix='temp_')\n",
    "print('Downloaded to:', filepath)\n",
    "\n",
    "# Converting to mp3\n",
    "print('\\nConverting to mp3...')\n",
    "new_filepath = Path(filepath).with_name('audio').with_suffix('.mp3')\n",
    "subprocess.run(['ffmpeg', '-y', '-i', filepath, new_filepath])\n",
    "\n",
    "print('Converted to:', new_filepath)\n",
    "\n",
    "# Deleting original file\n",
    "print('\\nDeleting original file...')\n",
    "Path(filepath).unlink()\n",
    "print('Deleted:', filepath)\n",
    "\n",
    "print('\\nDone!')"
   ]
  }
 ],
 "metadata": {
  "kernelspec": {
   "display_name": ".venv",
   "language": "python",
   "name": "python3"
  },
  "language_info": {
   "codemirror_mode": {
    "name": "ipython",
    "version": 3
   },
   "file_extension": ".py",
   "mimetype": "text/x-python",
   "name": "python",
   "nbconvert_exporter": "python",
   "pygments_lexer": "ipython3",
   "version": "3.10.12"
  }
 },
 "nbformat": 4,
 "nbformat_minor": 2
}
