{
 "cells": [
  {
   "cell_type": "code",
   "execution_count": 1,
   "metadata": {},
   "outputs": [],
   "source": [
    "from pathlib import Path\n",
    "from pytube import YouTube\n",
    "# from pydub import AudioSegment\n",
    "import subprocess"
   ]
  },
  {
   "cell_type": "code",
   "execution_count": 4,
   "metadata": {},
   "outputs": [
    {
     "name": "stdout",
     "output_type": "stream",
     "text": [
      "Attempting to download: 26May24m SG\n",
      "\n",
      "Audio streams:\n",
      "<Stream: itag=\"139\" mime_type=\"audio/mp4\" abr=\"48kbps\" acodec=\"mp4a.40.5\" progressive=\"False\" type=\"audio\">\n",
      "<Stream: itag=\"140\" mime_type=\"audio/mp4\" abr=\"128kbps\" acodec=\"mp4a.40.2\" progressive=\"False\" type=\"audio\">\n",
      "<Stream: itag=\"251\" mime_type=\"audio/webm\" abr=\"160kbps\" acodec=\"opus\" progressive=\"False\" type=\"audio\">\n",
      "\n",
      "Best audio stream:\n",
      "<Stream: itag=\"251\" mime_type=\"audio/webm\" abr=\"160kbps\" acodec=\"opus\" progressive=\"False\" type=\"audio\">\n",
      "\n",
      "Downloading...\n",
      "Downloaded to: /home/pavan/youtube-downloader/temp_26May24m SG.webm\n",
      "\n",
      "Converting to mp3...\n"
     ]
    },
    {
     "name": "stderr",
     "output_type": "stream",
     "text": [
      "ffmpeg version 4.4.2-0ubuntu0.22.04.1 Copyright (c) 2000-2021 the FFmpeg developers\n",
      "  built with gcc 11 (Ubuntu 11.2.0-19ubuntu1)\n",
      "  configuration: --prefix=/usr --extra-version=0ubuntu0.22.04.1 --toolchain=hardened --libdir=/usr/lib/x86_64-linux-gnu --incdir=/usr/include/x86_64-linux-gnu --arch=amd64 --enable-gpl --disable-stripping --enable-gnutls --enable-ladspa --enable-libaom --enable-libass --enable-libbluray --enable-libbs2b --enable-libcaca --enable-libcdio --enable-libcodec2 --enable-libdav1d --enable-libflite --enable-libfontconfig --enable-libfreetype --enable-libfribidi --enable-libgme --enable-libgsm --enable-libjack --enable-libmp3lame --enable-libmysofa --enable-libopenjpeg --enable-libopenmpt --enable-libopus --enable-libpulse --enable-librabbitmq --enable-librubberband --enable-libshine --enable-libsnappy --enable-libsoxr --enable-libspeex --enable-libsrt --enable-libssh --enable-libtheora --enable-libtwolame --enable-libvidstab --enable-libvorbis --enable-libvpx --enable-libwebp --enable-libx265 --enable-libxml2 --enable-libxvid --enable-libzimg --enable-libzmq --enable-libzvbi --enable-lv2 --enable-omx --enable-openal --enable-opencl --enable-opengl --enable-sdl2 --enable-pocketsphinx --enable-librsvg --enable-libmfx --enable-libdc1394 --enable-libdrm --enable-libiec61883 --enable-chromaprint --enable-frei0r --enable-libx264 --enable-shared\n",
      "  libavutil      56. 70.100 / 56. 70.100\n",
      "  libavcodec     58.134.100 / 58.134.100\n",
      "  libavformat    58. 76.100 / 58. 76.100\n",
      "  libavdevice    58. 13.100 / 58. 13.100\n",
      "  libavfilter     7.110.100 /  7.110.100\n",
      "  libswscale      5.  9.100 /  5.  9.100\n",
      "  libswresample   3.  9.100 /  3.  9.100\n",
      "  libpostproc    55.  9.100 / 55.  9.100\n",
      "Input #0, matroska,webm, from '/home/pavan/youtube-downloader/temp_26May24m SG.webm':\n",
      "  Metadata:\n",
      "    encoder         : google/video-file\n",
      "  Duration: 02:41:54.14, start: -0.007000, bitrate: 103 kb/s\n",
      "  Stream #0:0(eng): Audio: opus, 48000 Hz, stereo, fltp (default)\n",
      "Stream mapping:\n",
      "  Stream #0:0 -> #0:0 (opus (native) -> mp3 (libmp3lame))\n",
      "Press [q] to stop, [?] for help\n",
      "Output #0, mp3, to '/home/pavan/youtube-downloader/audio.mp3':\n",
      "  Metadata:\n",
      "    TSSE            : Lavf58.76.100\n",
      "  Stream #0:0(eng): Audio: mp3, 48000 Hz, stereo, fltp (default)\n",
      "    Metadata:\n",
      "      encoder         : Lavc58.134.100 libmp3lame\n",
      "size=  151296kB time=02:41:28.80 bitrate= 127.9kbits/s speed=47.8x    \r"
     ]
    },
    {
     "name": "stdout",
     "output_type": "stream",
     "text": [
      "Converted to: /home/pavan/youtube-downloader/audio.mp3\n",
      "\n",
      "Deleting original file...\n",
      "Deleted: /home/pavan/youtube-downloader/temp_26May24m SG.webm\n",
      "\n",
      "Done!\n"
     ]
    },
    {
     "name": "stderr",
     "output_type": "stream",
     "text": [
      "size=  151784kB time=02:41:54.10 bitrate= 128.0kbits/s speed=47.7x    \n",
      "video:0kB audio:151784kB subtitle:0kB other streams:0kB global headers:0kB muxing overhead: 0.000152%\n"
     ]
    }
   ],
   "source": [
    "youtube_url = 'https://www.youtube.com/live/sTWFiWTQ0Wc?si=27n1go7A8X1_pRPw'\n",
    "\n",
    "# Finding YouTube video\n",
    "yt = YouTube(youtube_url)\n",
    "print('Attempting to download:', yt.title)\n",
    "\n",
    "# Displaying available streams\n",
    "audio_streams = yt.streams.filter(progressive=False, type='audio')\n",
    "print('\\nAudio streams:')\n",
    "[print(audio_stream) for audio_stream in audio_streams]\n",
    "\n",
    "# Finding best audio stream\n",
    "best_audio_stream = yt.streams.filter(progressive=False, type='audio').order_by('abr').desc().first()\n",
    "print('\\nBest audio stream:')\n",
    "print(best_audio_stream)\n",
    "\n",
    "# Downloading best audio stream\n",
    "print('\\nDownloading...')\n",
    "filepath = best_audio_stream.download(filename_prefix='temp_')\n",
    "print('Downloaded to:', filepath)\n",
    "\n",
    "# Converting to mp3\n",
    "print('\\nConverting to mp3...')\n",
    "new_filepath = Path(filepath).with_name('audio').with_suffix('.mp3')\n",
    "subprocess.run(['ffmpeg', '-y', '-i', filepath, new_filepath])\n",
    "\n",
    "print('Converted to:', new_filepath)\n",
    "\n",
    "# Deleting original file\n",
    "print('\\nDeleting original file...')\n",
    "Path(filepath).unlink()\n",
    "print('Deleted:', filepath)\n",
    "\n",
    "print('\\nDone!')"
   ]
  },
  {
   "cell_type": "code",
   "execution_count": 3,
   "metadata": {},
   "outputs": [
    {
     "data": {
      "text/plain": [
       "PosixPath('/home/pavan/youtube-downloader/audio.mp3')"
      ]
     },
     "execution_count": 3,
     "metadata": {},
     "output_type": "execute_result"
    }
   ],
   "source": [
    "Path(filepath).with_name('audio').with_suffix('.mp3')"
   ]
  },
  {
   "cell_type": "code",
   "execution_count": null,
   "metadata": {},
   "outputs": [],
   "source": []
  }
 ],
 "metadata": {
  "kernelspec": {
   "display_name": ".venv",
   "language": "python",
   "name": "python3"
  },
  "language_info": {
   "codemirror_mode": {
    "name": "ipython",
    "version": 3
   },
   "file_extension": ".py",
   "mimetype": "text/x-python",
   "name": "python",
   "nbconvert_exporter": "python",
   "pygments_lexer": "ipython3",
   "version": "3.10.12"
  }
 },
 "nbformat": 4,
 "nbformat_minor": 2
}
