{
 "cells": [
  {
   "cell_type": "code",
   "execution_count": 26,
   "metadata": {},
   "outputs": [],
   "source": [
    "from pathlib import Path\n",
    "from pytube import YouTube\n",
    "from pydub import AudioSegment"
   ]
  },
  {
   "cell_type": "code",
   "execution_count": 30,
   "metadata": {},
   "outputs": [
    {
     "name": "stdout",
     "output_type": "stream",
     "text": [
      "Attempting to download: Bhai Nirmal Singh Khalsa | Biba Arvindpal Kaur | Pipli Wale | Raag Bilaval | Kar Naad Bilaval Raag |\n",
      "\n",
      "Audio streams:\n",
      "<Stream: itag=\"139\" mime_type=\"audio/mp4\" abr=\"48kbps\" acodec=\"mp4a.40.5\" progressive=\"False\" type=\"audio\">\n",
      "<Stream: itag=\"140\" mime_type=\"audio/mp4\" abr=\"128kbps\" acodec=\"mp4a.40.2\" progressive=\"False\" type=\"audio\">\n",
      "<Stream: itag=\"251\" mime_type=\"audio/webm\" abr=\"160kbps\" acodec=\"opus\" progressive=\"False\" type=\"audio\">\n",
      "\n",
      "Best audio stream:\n",
      "<Stream: itag=\"251\" mime_type=\"audio/webm\" abr=\"160kbps\" acodec=\"opus\" progressive=\"False\" type=\"audio\">\n",
      "\n",
      "Downloading...\n",
      "Downloaded to: /home/pavan/youtube-downloader/Bhai Nirmal Singh Khalsa  Biba Arvindpal Kaur  Pipli Wale  Raag Bilaval  Kar Naad Bilaval Raag .webm\n",
      "\n",
      "Converting to mp3...\n",
      "Converted to: /home/pavan/youtube-downloader/Bhai Nirmal Singh Khalsa  Biba Arvindpal Kaur  Pipli Wale  Raag Bilaval  Kar Naad Bilaval Raag .mp3\n",
      "\n",
      " Deleting original file...\n",
      "Deleted: /home/pavan/youtube-downloader/Bhai Nirmal Singh Khalsa  Biba Arvindpal Kaur  Pipli Wale  Raag Bilaval  Kar Naad Bilaval Raag .webm\n",
      "\n",
      "Done!\n"
     ]
    }
   ],
   "source": [
    "youtube_url = 'https://www.youtube.com/watch?v=_2KhUoLSnXA'\n",
    "\n",
    "# Finding YouTube video\n",
    "yt = YouTube(youtube_url)\n",
    "print('Attempting to download:', yt.title)\n",
    "\n",
    "# Displaying available streams\n",
    "audio_streams = yt.streams.filter(progressive=False, type='audio')\n",
    "print('\\nAudio streams:')\n",
    "[print(audio_stream) for audio_stream in audio_streams]\n",
    "\n",
    "# Finding best audio stream\n",
    "best_audio_stream = yt.streams.filter(progressive=False, type='audio').order_by('abr').desc().first()\n",
    "print('\\nBest audio stream:')\n",
    "print(best_audio_stream)\n",
    "\n",
    "# Downloading best audio stream\n",
    "print('\\nDownloading...')\n",
    "filepath = best_audio_stream.download()\n",
    "print('Downloaded to:', filepath)\n",
    "\n",
    "# Converting to mp3\n",
    "print('\\nConverting to mp3...')\n",
    "audio = AudioSegment.from_file(filepath)\n",
    "new_filepath = Path(filepath).with_suffix('.mp3')\n",
    "audio.export(new_filepath, format='mp3')\n",
    "print('Converted to:', new_filepath)\n",
    "\n",
    "# Deleting original file\n",
    "print('\\nDeleting original file...')\n",
    "Path(filepath).unlink()\n",
    "print('Deleted:', filepath)\n",
    "\n",
    "print('\\nDone!')"
   ]
  },
  {
   "cell_type": "code",
   "execution_count": null,
   "metadata": {},
   "outputs": [],
   "source": []
  }
 ],
 "metadata": {
  "kernelspec": {
   "display_name": ".venv",
   "language": "python",
   "name": "python3"
  },
  "language_info": {
   "codemirror_mode": {
    "name": "ipython",
    "version": 3
   },
   "file_extension": ".py",
   "mimetype": "text/x-python",
   "name": "python",
   "nbconvert_exporter": "python",
   "pygments_lexer": "ipython3",
   "version": "3.10.12"
  }
 },
 "nbformat": 4,
 "nbformat_minor": 2
}
